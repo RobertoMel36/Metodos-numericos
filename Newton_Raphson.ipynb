{
  "nbformat": 4,
  "nbformat_minor": 0,
  "metadata": {
    "colab": {
      "name": "Newton Raphson.ipynb",
      "provenance": [],
      "authorship_tag": "ABX9TyNiEygzLLAcmk6d3jCbPd0F",
      "include_colab_link": true
    },
    "kernelspec": {
      "name": "python3",
      "display_name": "Python 3"
    }
  },
  "cells": [
    {
      "cell_type": "markdown",
      "metadata": {
        "id": "view-in-github",
        "colab_type": "text"
      },
      "source": [
        "<a href=\"https://colab.research.google.com/github/RobertoMel36/Metodos-numericos/blob/main/Newton_Raphson.ipynb\" target=\"_parent\"><img src=\"https://colab.research.google.com/assets/colab-badge.svg\" alt=\"Open In Colab\"/></a>"
      ]
    },
    {
      "cell_type": "code",
      "metadata": {
        "id": "cSd4QigCXGb_",
        "outputId": "ae548872-89bc-457b-bf6c-2b4d3f0d8f4e",
        "colab": {
          "base_uri": "https://localhost:8080/"
        }
      },
      "source": [
        "def f(x):\n",
        "  return -2 * x**4 + 6 * x**3 - 12 * x + 3\n",
        "\n",
        "def Df(x):\n",
        "  return -8 * x**3 + 18 * x**2 - 12\n",
        "\n",
        "x0 = 1\n",
        "i=1\n",
        "error = 10\n",
        "while error> 1e-10:\n",
        "  x1= x0 - f(x0)/ Df(x0)\n",
        "  error= abs (x1 - x0)\n",
        "  x0=x1\n",
        "  print(\"Iteracion\",i, \", Raiz aproximada:\" ,x0)\n",
        "  i= i+1"
      ],
      "execution_count": 20,
      "outputs": [
        {
          "output_type": "stream",
          "text": [
            "Iteracion 1 , Raiz aproximada: -1.5\n",
            "Iteracion 2 , Raiz aproximada: -1.3310810810810811\n",
            "Iteracion 3 , Raiz aproximada: -1.293523745678972\n",
            "Iteracion 4 , Raiz aproximada: -1.2917482942782157\n",
            "Iteracion 5 , Raiz aproximada: -1.2917444223701793\n",
            "Iteracion 6 , Raiz aproximada: -1.2917444223517893\n"
          ],
          "name": "stdout"
        }
      ]
    },
    {
      "cell_type": "code",
      "metadata": {
        "id": "dYIzPZDPXOA5",
        "outputId": "b7c694f1-b4a8-4b3c-f580-cb4525f800d9",
        "colab": {
          "base_uri": "https://localhost:8080/",
          "height": 265
        }
      },
      "source": [
        "import numpy as np\n",
        "import matplotlib.pyplot as plt\n",
        "\n",
        "x= np.linspace(-1.5, 1, 100)\n",
        "plt.plot(x, f(x))\n",
        "plt.plot(x0, f(x0), 'or')\n",
        "plt.grid()\n",
        "plt.show()"
      ],
      "execution_count": 27,
      "outputs": [
        {
          "output_type": "display_data",
          "data": {
            "image/png": "[encoded data removed]",
            "text/plain": [
              "<Figure size 432x288 with 1 Axes>"
            ]
          },
          "metadata": {
            "tags": [],
            "needs_background": "light"
          }
        }
      ]
    },
    {
      "cell_type": "code",
      "metadata": {
        "id": "Fk1p11nqinjs"
      },
      "source": [
        "from fractions import Fraction\n",
        "import math\n",
        "\n",
        "def imprimirPolinomio(polinomio):\n",
        "    textoPolinomio = \"\"\n",
        "    for i in range(0, len(polinomio)):\n",
        "        textoPolinomio = textoPolinomio + str(polinomio[i])+\"x^\"+str(len(polinomio)-1-i)+\", \"\n",
        "    print(textoPolinomio)\n",
        "\n",
        "def obtenerValorP(polinomio):\n",
        "    valorP = int(math.fabs(polinomio[len(polinomio)-1]))\n",
        "    print(\"El valor de P es \"+str(valorP))\n",
        "    return valorP\n",
        "\n",
        "def obtenerValorQ(polinomio):\n",
        "    valorQ = int(math.fabs(polinomio[0]))\n",
        "    print(\"El valor de Q es \"+str(valorQ))\n",
        "    return valorQ\n",
        "\n",
        "def obtenerDivisores(valor):\n",
        "    divisores = []\n",
        "    for i in range(1, valor+1):\n",
        "        if(valor % i == 0):\n",
        "            divisores.append(i)\n",
        "            divisores.append(i*-1)\n",
        "    return divisores\n",
        "\n",
        "def mostrarDivisores(lista, letra):\n",
        "    fraseDiv = \"Los divisores de \" + letra + \" son \"\n",
        "    for i in range(0, len(lista)):\n",
        "        fraseDiv = fraseDiv + str(lista[i])+\", \"\n",
        "    print(fraseDiv)\n",
        "\n",
        "def obtenerFactores(listaP, listaQ):\n",
        "    factores = []\n",
        "    for i in range(0, len(listaQ)):\n",
        "        for j in range(0, len(listaP)):\n",
        "            val = Fraction(listaP[j], listaQ[i])\n",
        "            if not(val in factores):\n",
        "                factores.append(val)\n",
        "    return factores\n",
        "\n",
        "def mostrarFactores(lista):\n",
        "    fraseF = \"Los factores son \"\n",
        "    for i in range(0, len(lista)):\n",
        "        fraseF = fraseF + str(lista[i]) + \", \"\n",
        "    print(fraseF)\n",
        "\n",
        "def divisionSintetica():\n",
        "    flagPrincipal = False\n",
        "    while flagPrincipal == False:\n",
        "        grado = int(input(\"Escriba el grado del polinomio: \"))\n",
        "        polinomioOriginal = []\n",
        "        for i in range(0, grado+1):\n",
        "            val = int(input(f\"Escriba el coeficiente del grado {grado-i}: \"))\n",
        "            polinomioOriginal.append(val)\n",
        "\n",
        "        flagLista = False\n",
        "        listaPolinomios = []\n",
        "        listaFactores = []\n",
        "        listaPolinomios.append(polinomioOriginal)\n",
        "\n",
        "        while flagLista == False:\n",
        "            polinomioActual = listaPolinomios[len(listaPolinomios)-1]\n",
        "            if(len(polinomioActual) > 1):\n",
        "                imprimirPolinomio(polinomioActual)\n",
        "                valorP = obtenerValorP(polinomioActual)\n",
        "                valorQ = obtenerValorQ(polinomioActual)\n",
        "                divisoresP = obtenerDivisores(valorP)\n",
        "                divisoresQ = obtenerDivisores(valorQ)\n",
        "                mostrarDivisores(divisoresP, \"P\")\n",
        "                mostrarDivisores(divisoresQ, \"Q\")\n",
        "                factores = obtenerFactores(divisoresP, divisoresQ)\n",
        "                mostrarFactores(factores)\n",
        "                flagPolinomio = False\n",
        "\n",
        "                for i in range(0, len(factores)):\n",
        "                    factorActual = factores[i]\n",
        "                    polinomioNuevo = []\n",
        "                    polinomioNuevo.append(polinomioActual[0])\n",
        "                    for j in range(1, len(polinomioActual)):\n",
        "                        polinomioNuevo.append(polinomioActual[j]+(factorActual*polinomioNuevo[j-1]))\n",
        "                    if(polinomioNuevo[len(polinomioNuevo)-1] == 0):\n",
        "                        polinomioNuevo.remove(0)\n",
        "                        listaFactores.append(factorActual)\n",
        "                        listaPolinomios.append(polinomioNuevo)\n",
        "                        flagPolinomio = True\n",
        "                        break\n",
        "\n",
        "                if(flagPolinomio):\n",
        "                    print(\"El factor encontrado es \"+str(factorActual))\n",
        "                    print(\"Los coeficientes resultantes fueron \")\n",
        "                    imprimirPolinomio(polinomioNuevo)\n",
        "                    print(\"--------------------------------------------------------------\")\n",
        "                else:\n",
        "                    print(\"--------------------------------------------------------------\")\n",
        "                    print(\"Este polinomio no puede ser resuelto de esta forma ya que contiene raíces complejas.\")\n",
        "                    mostrarFactores(listaFactores)\n",
        "                    flagLista = True\n",
        "            else:\n",
        "                print(\"Ya se realizaron todas las divisiones posibles.\")\n",
        "                mostrarFactores(listaFactores)\n",
        "                flagLista = True\n",
        "\n",
        "        opcion = input(\"Teclee 's' para insertar un nuevo polinomio: \")\n",
        "        if(opcion != 's'):\n",
        "            flagPrincipal = True\n",
        "\n",
        "        print(\"-------------------------------------------------------------------------\")\n",
        "\n",
        "if __name__ == \"__main__\":\n",
        "    divisionSintetica()"
      ],
      "execution_count": null,
      "outputs": []
    }
  ]
}